{
 "cells": [
  {
   "cell_type": "code",
   "execution_count": 95,
   "metadata": {},
   "outputs": [],
   "source": [
    "from tabula import read_pdf\n",
    "import pandas as pd"
   ]
  },
  {
   "cell_type": "code",
   "execution_count": 107,
   "metadata": {},
   "outputs": [],
   "source": [
    "filename = 'tobacoo_1'\n",
    "df= read_pdf(filename+'.pdf',multiple_tables=True,pages=\"all\")\n",
    "num_of_DataFrames =len(df)"
   ]
  },
  {
   "cell_type": "code",
   "execution_count": 108,
   "metadata": {},
   "outputs": [],
   "source": [
    "QTY_0 = []\n",
    "item_code_0 = []\n",
    "description_0 = []\n",
    "unit_price_GST_0 = []\n",
    "total_GST_0 = []\n",
    "\n",
    "QTY_1 = []\n",
    "item_code_1 = []\n",
    "description_1 = []\n",
    "unit_price_GST_1 = []\n",
    "total_GST_1 = []\n",
    "QTY_item_code_1 = []\n",
    "\n",
    "QTY_2 = []\n",
    "item_code_2 = []\n",
    "description_2 = []\n",
    "unit_price_GST_2 = []\n",
    "total_GST_2 = []\n",
    "\n",
    "sub_total = []"
   ]
  },
  {
   "cell_type": "code",
   "execution_count": 109,
   "metadata": {},
   "outputs": [],
   "source": [
    "for index in range(0,num_of_DataFrames):\n",
    "    if index == 0:\n",
    "        df_0 = df[index]\n",
    "        start_index = df_0.index[df_0.iloc[:,0].str.contains('QTY') == True]\n",
    "        df_0 = df_0[start_index[0]+2:]\n",
    "        \n",
    "        QTY_0 = df_0.iloc[:,0].tolist()\n",
    "        item_code_0 = df_0.iloc[:,1].tolist()\n",
    "        description_0 = df_0.iloc[:,2].tolist()\n",
    "        unit_price_GST_0 = df_0.iloc[:,3].tolist()\n",
    "        total_GST_0 = df_0.iloc[:,5].tolist()\n",
    "    elif index == 1:\n",
    "        df_1 = df[index]\n",
    "        end_index   = df_1.index[df_1.iloc[:,0].str.contains('Total Quantity Units') == True]\n",
    "        df_1 = df_1[:end_index[0]]\n",
    "        \n",
    "        description_1 = df_1.iloc[:,1].tolist()\n",
    "        unit_price_GST_1 = df_1.iloc[:,3].tolist()\n",
    "        total_GST_1 = df_1.iloc[:,5].tolist()\n",
    "        QTY_item_code_1 = df_1.iloc[:,0].tolist()\n",
    "        \n",
    "        for i in QTY_item_code_1:\n",
    "            j=i.split(\" \")\n",
    "            QTY_1.append(j[0])\n",
    "            item_code_1.append(j[1])   \n",
    "    elif index == 2:\n",
    "        df_2 = df[index]\n",
    "        start_index = df_2.index[df_2.iloc[:,0].str.contains('QTY') == True]\n",
    "        df_2 = df_2[start_index[0]+2:]\n",
    "        \n",
    "        QTY_2 = df_2.iloc[:,0].tolist()\n",
    "        item_code_2 = df_2.iloc[:,1].tolist()\n",
    "        description_2 = df_2.iloc[:,2].tolist()\n",
    "        unit_price_GST_2 = df_2.iloc[:,3].tolist()\n",
    "        total_GST_2 = df_2.iloc[:,5].tolist()\n",
    "    else:\n",
    "        df_3 = df[index]\n",
    "        sub_total_index = df_3.index[df_3.iloc[:,2].str.contains('Subtotal inc GST')==True]\n",
    "        sub_total = df_3.iloc[sub_total_index ,3].tolist()"
   ]
  },
  {
   "cell_type": "code",
   "execution_count": 110,
   "metadata": {},
   "outputs": [],
   "source": [
    "QTY_final_list = []\n",
    "item_code_final_list = []\n",
    "description_final_list = []\n",
    "unit_price_GST_final_list = []\n",
    "total_GST_final_list = []\n",
    "\n",
    "\n",
    "QTY_final_list = QTY_0 + QTY_1 + QTY_2\n",
    "item_code_final_list = item_code_0 + item_code_1 + item_code_2\n",
    "description_final_list = description_0 + description_1 + description_2\n",
    "unit_price_GST_final_list = unit_price_GST_0 + unit_price_GST_1 + unit_price_GST_2\n",
    "total_GST_final_list = total_GST_0 + total_GST_1 + total_GST_2\n",
    "data_dic = {'QTY':QTY_final_list,'Item Code':item_code_final_list,'Description':description_final_list,\n",
    "            \"Unit Price(inc-GST)\":unit_price_GST_final_list,\"Total(inc-GST)\":total_GST_final_list}\n",
    "\n",
    "dataframe_result = pd.DataFrame(data=data_dic)\n",
    "\n",
    "index = ['QTY', 'Item Code', 'Description', 'Unit Price(inc-GST)','Total(inc-GST)']\n",
    "\n",
    "dataframe_result = dataframe_result.reindex(index,axis=1);\n",
    "\n",
    "dataframe_result = dataframe_result.append(pd.Series(['','','','','Subtotal inc GST: '+sub_total[0]], index=dataframe_result.columns), ignore_index=True)\n",
    "#dataframe_result = dataframe_result.append({'Total(inc-GST)': 'Subtotal inc GST: '+sub_total[0]},ignore_index=True)\n",
    "\n",
    "dataframe_result.to_csv(filename+'.csv',index=None,header=True)\n",
    "#dataframe.to_csv(filename+'.csv',index=None,header=True)"
   ]
  },
  {
   "cell_type": "code",
   "execution_count": null,
   "metadata": {},
   "outputs": [],
   "source": []
  }
 ],
 "metadata": {
  "kernelspec": {
   "display_name": "INV",
   "language": "python",
   "name": "inv_extract"
  },
  "language_info": {
   "codemirror_mode": {
    "name": "ipython",
    "version": 3
   },
   "file_extension": ".py",
   "mimetype": "text/x-python",
   "name": "python",
   "nbconvert_exporter": "python",
   "pygments_lexer": "ipython3",
   "version": "3.5.5"
  }
 },
 "nbformat": 4,
 "nbformat_minor": 2
}
