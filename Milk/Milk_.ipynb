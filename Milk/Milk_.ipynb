{
 "cells": [
  {
   "cell_type": "code",
   "execution_count": 1,
   "metadata": {},
   "outputs": [],
   "source": [
    "import tabula\n",
    "import pandas as pd"
   ]
  },
  {
   "cell_type": "code",
   "execution_count": 2,
   "metadata": {},
   "outputs": [],
   "source": [
    "filename = 'Milk_3'\n",
    "dataframe_full = tabula.read_pdf(filename+'.pdf')"
   ]
  },
  {
   "cell_type": "code",
   "execution_count": 3,
   "metadata": {},
   "outputs": [],
   "source": [
    "start_index = dataframe_full.index[dataframe_full['Unnamed: 0'].str.contains('Delivery Note') == True]\n",
    "end_index   = dataframe_full.index[dataframe_full.iloc[:,6].str.contains('Sub-total') == True]\n",
    "dataframe_table = dataframe_full[start_index[0]+1:end_index[0]-1]"
   ]
  },
  {
   "cell_type": "code",
   "execution_count": 12,
   "metadata": {
    "run_control": {
     "marked": false
    }
   },
   "outputs": [],
   "source": [
    "\n",
    "product_description = [] #\n",
    "product_code = [] #\n",
    "quantity = [] #\n",
    "list_price = [] #\n",
    "line_disc = [] #\n",
    "container_scheme = []\n",
    "Gst = []\n",
    "extended_price = [] #\n",
    "price_per_iteam = [] #\n",
    "\n",
    "product_description = dataframe_table.iloc[:,0].tolist()\n",
    "line_disc = dataframe_table.iloc[:,2].tolist()\n",
    "extended_price = dataframe_table.iloc[:,6].tolist()\n",
    "price_per_iteam = dataframe_table.iloc[:,8].tolist()\n",
    "list_PQL = dataframe_table.iloc[:,1].tolist()\n",
    "list_Con_GST = dataframe_table.iloc[:,4].tolist()\n",
    "\n",
    "#extracting Product code , Quantity and list price from same column\n",
    "for i in list_PQL:\n",
    "    j=i.split(\" \")\n",
    "    product_code.append(j[0])\n",
    "    quantity.append(j[2:4])\n",
    "    list_price.append(j[4])\n",
    "\n",
    "\n",
    "# extracting container Scheme and GST from same column\n",
    "new_con_GST = []\n",
    "for iteam in list_Con_GST:\n",
    "    new_con_GST.append(str(iteam))\n",
    "\n",
    "for i in new_con_GST:\n",
    "    j = i.split(\" \")\n",
    "    if len(j)==0:\n",
    "        container_scheme.append('nan')\n",
    "        Gst.append('nan')\n",
    "    elif len(j)==1:\n",
    "        container_scheme.append(j[0])\n",
    "        Gst.append('nan')\n",
    "    elif len(j)==2:\n",
    "        container_scheme.append(j[0])\n",
    "        Gst.append(j[1])\n",
    "    \n",
    "# Create a dictionary from data_lists to create final dataframe\n",
    "data_dic = {'Product Description':product_description,'Product Code':product_code,'Quantity':quantity,'List Price':list_price,\n",
    "            'Line Disc':line_disc,'Container Scheme':container_scheme,'GST':Gst,'Extended Price':extended_price,\n",
    "            'Price per Item':price_per_iteam}\n",
    "dataframe_result = pd.DataFrame(data=data_dic)\n",
    "\n",
    "\n",
    "# Re-index data and write to a csv\n",
    "index = ['Product Description', 'Product Code', 'Quantity', 'List Price', 'Line Disc','Container Scheme','GST','Extended Price','Price per Item']\n",
    "dataframe_result.reindex(index,axis=1).to_csv(filename+'.csv',index=None,header=True)"
   ]
  }
 ],
 "metadata": {
  "kernelspec": {
   "display_name": "INV",
   "language": "python",
   "name": "inv_extract"
  },
  "language_info": {
   "codemirror_mode": {
    "name": "ipython",
    "version": 3
   },
   "file_extension": ".py",
   "mimetype": "text/x-python",
   "name": "python",
   "nbconvert_exporter": "python",
   "pygments_lexer": "ipython3",
   "version": "3.5.5"
  },
  "varInspector": {
   "cols": {
    "lenName": 16,
    "lenType": 16,
    "lenVar": 40
   },
   "kernels_config": {
    "python": {
     "delete_cmd_postfix": "",
     "delete_cmd_prefix": "del ",
     "library": "var_list.py",
     "varRefreshCmd": "print(var_dic_list())"
    },
    "r": {
     "delete_cmd_postfix": ") ",
     "delete_cmd_prefix": "rm(",
     "library": "var_list.r",
     "varRefreshCmd": "cat(var_dic_list()) "
    }
   },
   "types_to_exclude": [
    "module",
    "function",
    "builtin_function_or_method",
    "instance",
    "_Feature"
   ],
   "window_display": false
  }
 },
 "nbformat": 4,
 "nbformat_minor": 2
}
