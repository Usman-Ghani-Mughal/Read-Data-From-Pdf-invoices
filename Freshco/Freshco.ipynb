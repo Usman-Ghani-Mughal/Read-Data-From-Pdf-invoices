{
 "cells": [
  {
   "cell_type": "code",
   "execution_count": 1,
   "metadata": {},
   "outputs": [],
   "source": [
    "import pandas as pd\n",
    "import tabula"
   ]
  },
  {
   "cell_type": "code",
   "execution_count": 2,
   "metadata": {},
   "outputs": [],
   "source": [
    "filename = 'Freshco_2'\n",
    "raw_df = tabula.read_pdf(filename+'.pdf',multiple_tables=True,pages='all')"
   ]
  },
  {
   "cell_type": "code",
   "execution_count": 9,
   "metadata": {},
   "outputs": [
    {
     "data": {
      "text/plain": [
       "[                                        0\n",
       " 0  Phone # (02) 9737 9969, (02) 9737 9979\n",
       " 1                    Fax # (02) 9737 9989\n",
       " 2    E-mail: accounts@freshcofoods.com.au\n",
       " 3        Website: www.freshcofoods.com.au,\n",
       "                          0           1              2\n",
       " 0     ABN # 52 141 913 171         NaN            NaN\n",
       " 1                      NaN        Date  Tax Invoice #\n",
       " 2  NIT 16, 2 SLOUGH AVENUE         NaN            NaN\n",
       " 3    SILVERWATER, NSW 2128  22/02/2017           9109,\n",
       "               0      1    2\n",
       " 0  Customer ABN  Terms  Rep,\n",
       "                                                     0      1   2  \\\n",
       " 0                                Description Qty Unit  Price NaN   \n",
       " 1                      BOMBAY BIRYANI 60G SHAN 12 PKT   1.05 NaN   \n",
       " 2                     FISH SEASONNING 50G SHAN 12 PKT   1.05 NaN   \n",
       " 3                       CHICKEN CURRY 50G SHAN 12 PKT   1.05 NaN   \n",
       " 4                         SEEKH KEBAB 50G SHAN 12 PKT   1.05 NaN   \n",
       " 5                        BEEF BIRYANI 60G SHAN 12 PKT   1.05 NaN   \n",
       " 6                      SINDHI BIRYANI 60G SHAN 12 PKT   1.05 NaN   \n",
       " 7                           KORMA MIX 50G SHAN 12 PKT   1.05 NaN   \n",
       " 8                         KEEMA CURRY 50G SHAN 12 PKT   1.05 NaN   \n",
       " 9                    TANDOORI CHICKEN 50G SHAN 12 PKT   1.05 NaN   \n",
       " 10                         TIKKA BOTI 50G SHAN 12 PKT   1.05 NaN   \n",
       " 11                     MUTTON BIRYANI 60G SHAN 12 PKT   1.05 NaN   \n",
       " 12                      CHICKEN TIKKA 50G SHAN 12 PKT   1.05 NaN   \n",
       " 13               RICE FLAKES MEDIUM 500G UTTAM 24 PKT   1.30 NaN   \n",
       " 14                RICE FLAKES THICK 500G UTTAM 24 PKT   1.30 NaN   \n",
       " 15                 RICE FLAKES THIN 500G UTTAM 24 PKT   1.30 NaN   \n",
       " 16                                EFT PAYMENT DETAILS    NaN NaN   \n",
       " 17                     RECEIVER'S NAME: FRESHCO FOODS    NaN NaN   \n",
       " 18                                SIGNATURE BANK: NAB    NaN NaN   \n",
       " 19                                      BSB # 082 356    NaN NaN   \n",
       " 20                                         RECEIVER'S    NaN NaN   \n",
       " 21                                ACCOUNT # 837699431    NaN NaN   \n",
       " 22                                               NAME    NaN NaN   \n",
       " 23  Terms & Conditions: 1. Any deficiency in goods...    NaN NaN   \n",
       " 24  $3,600.40FOODS till full payment is recieved 3...    NaN NaN   \n",
       " \n",
       "                 3   4        5  \n",
       " 0     GST GST AMT NaN   Amount  \n",
       " 1        FRE 0.00 NaN    12.60  \n",
       " 2        FRE 0.00 NaN    12.60  \n",
       " 3        FRE 0.00 NaN    12.60  \n",
       " 4        FRE 0.00 NaN    12.60  \n",
       " 5        FRE 0.00 NaN    12.60  \n",
       " 6        FRE 0.00 NaN    12.60  \n",
       " 7        FRE 0.00 NaN    12.60  \n",
       " 8        FRE 0.00 NaN    12.60  \n",
       " 9        FRE 0.00 NaN    12.60  \n",
       " 10       FRE 0.00 NaN    12.60  \n",
       " 11       FRE 0.00 NaN    12.60  \n",
       " 12       FRE 0.00 NaN    12.60  \n",
       " 13       FRE 0.00 NaN    31.20  \n",
       " 14       FRE 0.00 NaN    31.20  \n",
       " 15       FRE 0.00 NaN    31.20  \n",
       " 16       Subtotal NaN  $244.80  \n",
       " 17            NaN NaN      NaN  \n",
       " 18            Gst NaN    $0.00  \n",
       " 19            NaN NaN      NaN  \n",
       " 20            NaN NaN      NaN  \n",
       " 21            NaN NaN      NaN  \n",
       " 22          Total NaN  $244.80  \n",
       " 23            NaN NaN      NaN  \n",
       " 24  Total Balance NaN      NaN  ]"
      ]
     },
     "execution_count": 9,
     "metadata": {},
     "output_type": "execute_result"
    }
   ],
   "source": [
    "raw_df"
   ]
  },
  {
   "cell_type": "code",
   "execution_count": 6,
   "metadata": {},
   "outputs": [
    {
     "data": {
      "text/plain": [
       "4"
      ]
     },
     "execution_count": 6,
     "metadata": {},
     "output_type": "execute_result"
    }
   ],
   "source": [
    "num_of_pages = len(raw_df)\n",
    "num_of_pages"
   ]
  },
  {
   "cell_type": "code",
   "execution_count": 7,
   "metadata": {},
   "outputs": [],
   "source": [
    "def isPresent(df,str):\n",
    "    result_ser = df.iloc[:,0].str.contains(str)\n",
    "    result_list = result_ser.tolist()\n",
    "    for i in result_list:\n",
    "        if i == True:\n",
    "            return True\n",
    "    return False"
   ]
  },
  {
   "cell_type": "code",
   "execution_count": 8,
   "metadata": {},
   "outputs": [],
   "source": [
    "description = []\n",
    "Qty = []\n",
    "Unit = []\n",
    "Price = []\n",
    "Gst = []\n",
    "Gst_Amt = []\n",
    "Amount = []\n",
    "\n",
    "gst_and_gstamt = []\n",
    "dqu = []\n",
    "\n",
    "total = []"
   ]
  },
  {
   "cell_type": "code",
   "execution_count": null,
   "metadata": {},
   "outputs": [],
   "source": [
    "starting_str = 'Description'\n",
    "ending_str = 'EFT PAYMENT DETAILS'\n",
    "for index in range(0,num_of_pages):\n",
    "    df = raw_df[index]\n",
    "    result = isPresent(df,starting_str)\n",
    "    if result == True:\n",
    "        start_index = df.index[df.iloc[:,0].str.contains(starting_str) == True]\n",
    "        sub_result = isPresent(df,'NOTE')\n",
    "        if sub_result == True:\n",
    "            end_index   = df.index[df.iloc[:,0].str.contains('NOTE') == True]\n",
    "        else:\n",
    "            end_index   = df.index[df.iloc[:,0].str.contains(ending_str) == True]\n",
    "        table_df = df[start_index[0]+1:end_index[0]]\n",
    "        Price = table_df.iloc[:,1].tolist()\n",
    "        Amount = table_df.iloc[:,5].tolist()\n",
    "        gst_and_gstamt = table_df.iloc[:,3].tolist()\n",
    "        dqu = table_df.iloc[:,0].tolist()\n",
    "        \n",
    "        for item in gst_and_gstamt:\n",
    "            j=item.split(\" \")\n",
    "            Gst.append(j[0])\n",
    "            Gst_Amt.append(j[1])\n",
    "            \n",
    "        for item in dqu:\n",
    "            j=item.split(\" \")\n",
    "            Unit.append(j[-1])\n",
    "            Qty.append(j[-2])\n",
    "            description.append(j[:-2])\n",
    "        \n",
    "        index_of_total = df.index[df.iloc[:,3].str.contains('Total') == True]\n",
    "        total = df.iloc[index_of_total,5].tolist()"
   ]
  },
  {
   "cell_type": "code",
   "execution_count": null,
   "metadata": {},
   "outputs": [],
   "source": [
    "data_dic = {'Description':description,'Qty':Qty,'Unit':Unit,\"Price\":Price,\"GST\":Gst,'GST AMT':Gst_Amt,'Amount':Amount}\n"
   ]
  },
  {
   "cell_type": "code",
   "execution_count": null,
   "metadata": {},
   "outputs": [],
   "source": [
    "dataframe_result = pd.DataFrame(data=data_dic)\n",
    "\n",
    "index = ['Description', 'Qty', 'Unit', 'Price','GST','GST AMT','Amount']\n",
    "\n",
    "dataframe_result = dataframe_result.reindex(index,axis=1);\n",
    "\n",
    "dataframe_result = dataframe_result.append(pd.Series(['','','','','','','Total: '+total[0]], index=dataframe_result.columns), ignore_index=True)\n",
    "\n",
    "dataframe_result.to_csv(filename+'.csv',index=None,header=True)"
   ]
  }
 ],
 "metadata": {
  "kernelspec": {
   "display_name": "INV",
   "language": "python",
   "name": "inv_extract"
  },
  "language_info": {
   "codemirror_mode": {
    "name": "ipython",
    "version": 3
   },
   "file_extension": ".py",
   "mimetype": "text/x-python",
   "name": "python",
   "nbconvert_exporter": "python",
   "pygments_lexer": "ipython3",
   "version": "3.5.5"
  }
 },
 "nbformat": 4,
 "nbformat_minor": 2
}
