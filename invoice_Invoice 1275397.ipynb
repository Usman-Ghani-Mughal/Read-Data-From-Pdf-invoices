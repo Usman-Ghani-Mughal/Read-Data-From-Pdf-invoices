{
 "cells": [
  {
   "cell_type": "code",
   "execution_count": 1,
   "metadata": {},
   "outputs": [],
   "source": [
    "from tabula import read_pdf\n",
    "import pandas as pd"
   ]
  },
  {
   "cell_type": "code",
   "execution_count": 3,
   "metadata": {},
   "outputs": [
    {
     "data": {
      "text/plain": [
       "[                          0     ...                 8\n",
       " 0  SH/11, 24 RAILWAY PARADE     ...            1 of 3\n",
       " 1         WESTMEAD NSW 2145     ...       29 Jun 2017\n",
       " 2                       NaN     ...       27 Jul 2017\n",
       " 3                       NaN     ...               NaN\n",
       " 4         BATCH  NO:OID: 67     ...               NaN\n",
       " 5                       NaN     ...               NaN\n",
       " 6                       NaN     ...       72088821023\n",
       " \n",
       " [7 rows x 9 columns],\n",
       "                                                    0     ...           16\n",
       " 0                                                 NaN    ...     Ext Cost\n",
       " 1                                                 NaN    ...      inc GST\n",
       " 2                                                 NaN    ...          NaN\n",
       " 3                                                 NaN    ...          NaN\n",
       " 4                                                 NaN    ...          NaN\n",
       " 5                                                 NaN    ...          NaN\n",
       " 6                                                 NaN    ...          NaN\n",
       " 7                                                 NaN    ...          NaN\n",
       " 8                                                 NaN    ...          NaN\n",
       " 9                                                 NaN    ...          NaN\n",
       " 10                                                 S5    ...          NaN\n",
       " 11                                                 C6    ...          NaN\n",
       " 12                                                 G1    ...          NaN\n",
       " 13                                                 D7    ...          NaN\n",
       " 14                         210G G/WAVES SR CRM CHIVES    ...        35.57\n",
       " 15                           175G KETTLE CHIPS CHILLI    ...        32.39\n",
       " 16                         175G KETTLE CHIPS ORIGINAL    ...        32.39\n",
       " 17                          155G TWISTIES CHEESE ####    ...        21.77\n",
       " 18                          100G TWISTIES CHEESE (20)    ...        30.61\n",
       " 19                               WONKA NERD ROPE (24)    ...        21.24\n",
       " 20                                 PUSH POPS 15G (24)    ...        24.20\n",
       " 21                             EXTRA WHITE BOTTLE (6)    ...        17.03\n",
       " 22                        EXTRA PEPPERMINT BOTTLE (6)    ...        17.03\n",
       " 23                         EXTRA SPEARMINT BOTTLE (6)    ...        17.03\n",
       " 24                          BOUNCE SUPERBERRY 42G(12)    ...        27.24\n",
       " 25                           BOUNCE SPIRULINA 42G(12)    ...        27.24\n",
       " 26  BOUNCE CHIA & ALMOND 40G (12)  9335805000193  ...    ...        27.24\n",
       " 27                             BOUNCE PEANUT 49G (12)    ...        27.24\n",
       " 28                        BOUNCE COCO & MACA 40G (12)    ...        27.24\n",
       " 29  WONKA NERDS GRP/STRAW 46G(24)  9300605247888  NGS    ...        21.24\n",
       " 30                        M & M MINI TUBES 35.2G (24)    ...        31.23\n",
       " \n",
       " [31 rows x 17 columns]]"
      ]
     },
     "execution_count": 3,
     "metadata": {},
     "output_type": "execute_result"
    }
   ],
   "source": [
    "filename = 'Invoice 1275397'\n",
    "df = read_pdf(filename+'.pdf',multiple_tables=True)\n",
    "df"
   ]
  }
 ],
 "metadata": {
  "kernelspec": {
   "display_name": "Python 3",
   "language": "python",
   "name": "python3"
  },
  "language_info": {
   "codemirror_mode": {
    "name": "ipython",
    "version": 3
   },
   "file_extension": ".py",
   "mimetype": "text/x-python",
   "name": "python",
   "nbconvert_exporter": "python",
   "pygments_lexer": "ipython3",
   "version": "3.7.0"
  },
  "varInspector": {
   "cols": {
    "lenName": 16,
    "lenType": 16,
    "lenVar": 40
   },
   "kernels_config": {
    "python": {
     "delete_cmd_postfix": "",
     "delete_cmd_prefix": "del ",
     "library": "var_list.py",
     "varRefreshCmd": "print(var_dic_list())"
    },
    "r": {
     "delete_cmd_postfix": ") ",
     "delete_cmd_prefix": "rm(",
     "library": "var_list.r",
     "varRefreshCmd": "cat(var_dic_list()) "
    }
   },
   "types_to_exclude": [
    "module",
    "function",
    "builtin_function_or_method",
    "instance",
    "_Feature"
   ],
   "window_display": false
  }
 },
 "nbformat": 4,
 "nbformat_minor": 2
}
