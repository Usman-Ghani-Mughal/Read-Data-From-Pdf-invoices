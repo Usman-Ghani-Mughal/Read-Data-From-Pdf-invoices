{
 "cells": [
  {
   "cell_type": "code",
   "execution_count": 1,
   "metadata": {},
   "outputs": [],
   "source": [
    "import pandas as pd\n",
    "import tabula"
   ]
  },
  {
   "cell_type": "code",
   "execution_count": 11,
   "metadata": {},
   "outputs": [],
   "source": [
    "filename = 'Goodman_1'\n",
    "dataframe_raw = tabula.read_pdf(filename+'.pdf')"
   ]
  },
  {
   "cell_type": "code",
   "execution_count": 12,
   "metadata": {},
   "outputs": [
    {
     "data": {
      "text/html": [
       "<div>\n",
       "<style scoped>\n",
       "    .dataframe tbody tr th:only-of-type {\n",
       "        vertical-align: middle;\n",
       "    }\n",
       "\n",
       "    .dataframe tbody tr th {\n",
       "        vertical-align: top;\n",
       "    }\n",
       "\n",
       "    .dataframe thead th {\n",
       "        text-align: right;\n",
       "    }\n",
       "</style>\n",
       "<table border=\"1\" class=\"dataframe\">\n",
       "  <thead>\n",
       "    <tr style=\"text-align: right;\">\n",
       "      <th></th>\n",
       "      <th>Product Description</th>\n",
       "      <th>MON TUE</th>\n",
       "      <th>WED</th>\n",
       "      <th>THU</th>\n",
       "      <th>FRI</th>\n",
       "      <th>SAT</th>\n",
       "      <th>SUN</th>\n",
       "      <th>Total</th>\n",
       "      <th>List</th>\n",
       "      <th>Price</th>\n",
       "      <th>Net Val</th>\n",
       "      <th>GST</th>\n",
       "      <th>Unnamed: 12</th>\n",
       "      <th>GST Amt</th>\n",
       "      <th>Net Val.1</th>\n",
       "    </tr>\n",
       "  </thead>\n",
       "  <tbody>\n",
       "    <tr>\n",
       "      <th>0</th>\n",
       "      <td>NaN</td>\n",
       "      <td>24/06 25/06</td>\n",
       "      <td>26/06</td>\n",
       "      <td>27/06</td>\n",
       "      <td>28/06</td>\n",
       "      <td>29/06</td>\n",
       "      <td>30/06</td>\n",
       "      <td>Units</td>\n",
       "      <td>Price</td>\n",
       "      <td>NaN</td>\n",
       "      <td>Excl GST</td>\n",
       "      <td>(%)</td>\n",
       "      <td>NaN</td>\n",
       "      <td>($)</td>\n",
       "      <td>Incl GST</td>\n",
       "    </tr>\n",
       "    <tr>\n",
       "      <th>1</th>\n",
       "      <td>NaN</td>\n",
       "      <td>Del Ret Del Ret</td>\n",
       "      <td>Del Ret</td>\n",
       "      <td>Del Ret</td>\n",
       "      <td>Del Ret</td>\n",
       "      <td>Del Ret</td>\n",
       "      <td>Del Ret</td>\n",
       "      <td>NaN</td>\n",
       "      <td>NaN</td>\n",
       "      <td>NaN</td>\n",
       "      <td>NaN</td>\n",
       "      <td>NaN</td>\n",
       "      <td>NaN</td>\n",
       "      <td>NaN</td>\n",
       "      <td>NaN</td>\n",
       "    </tr>\n",
       "  </tbody>\n",
       "</table>\n",
       "</div>"
      ],
      "text/plain": [
       "  Product Description          MON TUE      WED      THU      FRI      SAT  \\\n",
       "0                 NaN      24/06 25/06    26/06    27/06    28/06    29/06   \n",
       "1                 NaN  Del Ret Del Ret  Del Ret  Del Ret  Del Ret  Del Ret   \n",
       "\n",
       "       SUN  Total   List  Price   Net Val  GST  Unnamed: 12 GST Amt Net Val.1  \n",
       "0    30/06  Units  Price    NaN  Excl GST  (%)          NaN     ($)  Incl GST  \n",
       "1  Del Ret    NaN    NaN    NaN       NaN  NaN          NaN     NaN       NaN  "
      ]
     },
     "execution_count": 12,
     "metadata": {},
     "output_type": "execute_result"
    }
   ],
   "source": [
    "dataframe_raw.head(2)"
   ]
  },
  {
   "cell_type": "code",
   "execution_count": 13,
   "metadata": {},
   "outputs": [],
   "source": [
    "dataframe_raw.to_csv(filename+'.csv',header=True,index=None)"
   ]
  }
 ],
 "metadata": {
  "kernelspec": {
   "display_name": "INV",
   "language": "python",
   "name": "inv_extract"
  },
  "language_info": {
   "codemirror_mode": {
    "name": "ipython",
    "version": 3
   },
   "file_extension": ".py",
   "mimetype": "text/x-python",
   "name": "python",
   "nbconvert_exporter": "python",
   "pygments_lexer": "ipython3",
   "version": "3.5.5"
  }
 },
 "nbformat": 4,
 "nbformat_minor": 2
}
